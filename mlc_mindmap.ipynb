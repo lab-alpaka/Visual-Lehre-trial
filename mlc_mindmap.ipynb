{
 "cells": [
  {
   "cell_type": "markdown",
   "id": "ec3d110c",
   "metadata": {},
   "source": [
    "# 🌐 Machine Learning Control (MLC)\n",
    "\n",
    "## 3.1 Grundlagen der MLC\n",
    "- Definition & Klassifikation\n",
    "- ML in Regelkreisen\n",
    "- Vorteile ggü. klassischen Reglern\n",
    "- Herausforderungen: Stabilität, Interpretierbarkeit\n",
    "\n",
    "## 3.2 MPC mit ML-Modellen\n",
    "- ML-Prozessmodelle\n",
    "  - Neuronale Netze (NARX)\n",
    "  - Gauß-Prozesse\n",
    "  - Hybride Modelle\n",
    "- Optimierung in MPC\n",
    "  - Integration in Optimierer\n",
    "  - NMPC mit ML\n",
    "  - Fallstudien (Reaktoren, Destillation)\n",
    "\n",
    "## 3.3 RL in der Prozesssteuerung\n",
    "- Direkte RL-Regler (DQN, PPO, SAC)\n",
    "- Belohnungsfunktionen für Qualität, Energie\n",
    "- Hierarchisches RL\n",
    "- Offline-RL (Batch RL)\n",
    "- Safe RL: Constraint-Aware, Stabilität\n",
    "\n",
    "## 3.4 Hybride Ansätze\n",
    "- Modellbasiertes RL\n",
    "- Adaptive PID mit ML\n",
    "- Fehlerkompensation\n",
    "- Tuning von Reglern via ML\n"
   ]
  },
  {
   "cell_type": "code",
   "execution_count": null,
   "id": "6b221fc3-e5e5-437b-a89a-f7c77daaaaf4",
   "metadata": {},
   "outputs": [],
   "source": []
  }
 ],
 "metadata": {
  "kernelspec": {
   "display_name": "Python 3 (ipykernel)",
   "language": "python",
   "name": "python3"
  },
  "language_info": {
   "codemirror_mode": {
    "name": "ipython",
    "version": 3
   },
   "file_extension": ".py",
   "mimetype": "text/x-python",
   "name": "python",
   "nbconvert_exporter": "python",
   "pygments_lexer": "ipython3",
   "version": "3.12.7"
  }
 },
 "nbformat": 4,
 "nbformat_minor": 5
}
